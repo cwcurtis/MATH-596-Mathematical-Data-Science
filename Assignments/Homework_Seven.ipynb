{
 "cells": [
  {
   "cell_type": "code",
   "execution_count": null,
   "id": "f0e24ef0-1473-447f-86cd-23f688819255",
   "metadata": {},
   "outputs": [],
   "source": [
    "import numpy as np\n",
    "from scipy.fft import fft, ifft, fftshift\n",
    "import matplotlib.pyplot as plt\n",
    "import pickle\n",
    "%matplotlib inline"
   ]
  },
  {
   "cell_type": "code",
   "execution_count": null,
   "id": "7bf0dc46-41dd-44ce-9b33-67063fc223b5",
   "metadata": {},
   "outputs": [],
   "source": [
    "with open('data_set_1.pkl', 'rb') as f:\n",
    "    data_set_1 = pickle.load(f)\n",
    "\n",
    "with open('data_set_2.pkl', 'rb') as f:\n",
    "    data_set_2 = pickle.load(f)\n",
    "\n",
    "xvals1 = data_set_1[:, 0]\n",
    "yvals1 = data_set_1[:, 1]\n",
    "\n",
    "xvals2 = data_set_2[:, 0]\n",
    "yvals2 = data_set_2[:, 1]"
   ]
  },
  {
   "cell_type": "code",
   "execution_count": null,
   "id": "2b819075-29a7-4bec-9cee-fe1d5150fcb7",
   "metadata": {},
   "outputs": [],
   "source": [
    "def xp_mat_maker(xvals, p):\n",
    "    xp = np.ones((xvals.size, p+1))\n",
    "    for jj in range(p):\n",
    "        xp[:, jj+1] = xvals * xp[:, jj]\n",
    "    return xp"
   ]
  },
  {
   "cell_type": "code",
   "execution_count": null,
   "id": "5bad0ab2-2a41-49ef-8d64-f4fdcd5ff0d1",
   "metadata": {},
   "outputs": [],
   "source": [
    "def cos_mat_maker(xvals, freqs):\n",
    "    cp = np.ones((xvals.size, len(freqs)))\n",
    "    for jj, freq in enumerate(freqs):\n",
    "        cp[:, jj] = np.cos(freq * xvals)\n",
    "    return cp"
   ]
  },
  {
   "cell_type": "code",
   "execution_count": null,
   "id": "a3417f29-366c-4ed4-abea-0eb4a5fcb1e6",
   "metadata": {},
   "outputs": [],
   "source": [
    "def least_squares_solve(mat, yvals):\n",
    "    u, s, vt = np.linalg.svd(mat, full_matrices=False)\n",
    "    alpha = (vt.T @ np.diag(1./s) @ u.T) @ yvals.reshape(-1, 1)\n",
    "    error = np.linalg.norm(mat @ alpha - yvals.reshape(-1, 1))\n",
    "    return alpha, error "
   ]
  },
  {
   "cell_type": "markdown",
   "id": "2270035b",
   "metadata": {},
   "source": [
    "## Homework 7 : Due 10/24/25 by 11:59 PM"
   ]
  },
  {
   "cell_type": "markdown",
   "id": "5779d8a3-bdf0-48be-8bfe-0bf6cf77ac1f",
   "metadata": {},
   "source": [
    "**Problem 1**: Using a least-squares approach, find a polynomial model of the data set represented by `xvals1` and `yvals1`, i.e. find $p$ and corresponding $\\alpha_{l}$ such that \n",
    "\n",
    "$$\n",
    "y_{j} \\approx \\sum_{l=0}^{p}\\alpha_{l}x_{j}^{l}\n",
    "$$\n",
    "\n",
    "Please explain how you arrived at your choice for $p$.  What is the condition number of your matrix $X_{p}$?  How does this value influence your choice of $p$? "
   ]
  },
  {
   "cell_type": "code",
   "execution_count": null,
   "id": "0fa74660-4712-4722-9828-bddaddabb35d",
   "metadata": {},
   "outputs": [],
   "source": [
    "pval = 1  \n",
    "xp = xp_mat_maker(xvals1, pval)\n",
    "alpha, error = least_squares_solve(xp, yvals1)"
   ]
  },
  {
   "cell_type": "code",
   "execution_count": null,
   "id": "2e991c18-d4fd-4d49-a7a8-04d48d94ea42",
   "metadata": {},
   "outputs": [],
   "source": [
    "plt.plot(xvals1, xp @ alpha, color='k', ls='--')\n",
    "plt.scatter(xvals1, yvals1, color='r', s = 1.)\n",
    "plt.xlabel(r\"$x$\")\n",
    "plt.ylabel(r\"$y(x)$\");"
   ]
  },
  {
   "cell_type": "markdown",
   "id": "a2936d48-313e-4500-9f01-a69772d6f68d",
   "metadata": {},
   "source": [
    "**Problem 2**: Using a least-squares approach, find a cos model of the data set reprsented by `xvals2` and `yvals2`.  In other finds, find $\\alpha_{l}$ and $\\omega_{l}$ such that\n",
    "\n",
    "$$\n",
    "y_{j} \\approx \\sum_{l=0}^{p}\\alpha_{l}\\cos(\\omega_{l}x_{j}).\n",
    "$$\n",
    "\n",
    "To figure out the frequencies, you need to use an FFT.  Then you find the $\\alpha_{l}$ terms using least-squares fitting.  Explain your choice of frequencies and the quality of fit that this gives you to your data set.  "
   ]
  },
  {
   "cell_type": "code",
   "execution_count": null,
   "id": "d77ce94a-ece2-43bf-a6a7-863792c7c8b8",
   "metadata": {},
   "outputs": [],
   "source": [
    "npts = yvals2.size\n",
    "kvals = np.arange(int(npts/2)) * 2.*np.pi/xvals2[-1] # scale using period equal to max of xval\n",
    "yfreq_plot = np.abs(fft(yvals2))[:int(npts/2)]\n",
    "plt.plot(kvals, yfreq_plot) # you might want to use slicing to zoom in on the frequencies you're most interested in"
   ]
  },
  {
   "cell_type": "code",
   "execution_count": null,
   "id": "4877cf9d-67a7-42be-8e86-df48cfa73637",
   "metadata": {},
   "outputs": [],
   "source": [
    "freqs = #what frequencies are you going to pick?\n",
    "cp = cos_mat_maker(xvals2, freqs)\n",
    "alpha, error = least_squares_solve(cp, yvals2)"
   ]
  },
  {
   "cell_type": "code",
   "execution_count": null,
   "id": "de7b5747-0133-4bec-a42b-02895d33f422",
   "metadata": {},
   "outputs": [],
   "source": [
    "plt.plot(xvals2, cp @ alpha, color='k', ls='--')\n",
    "plt.scatter(xvals2, yvals2, color='r', s = 1.)\n",
    "plt.xlabel(r\"$x$\")\n",
    "plt.ylabel(r\"$y(x)$\")"
   ]
  },
  {
   "cell_type": "markdown",
   "id": "23c54702-a920-4c8c-8ed2-436d50bb45e3",
   "metadata": {},
   "source": [
    "**Problem 3**: In $\\mathbb{R}^{n}$ with a fixed vector ${\\bf a}$ describe the following sets.  Illustrate your descriptions via examples in $n=2$ and $n=3$.  Remember that for real vectors \n",
    "$$\n",
    "\\left<{\\bf a},{\\bf x}\\right>=\\left<{\\bf x},{\\bf a}\\right>={\\bf x}^{T}{\\bf a}={\\bf a}^{T}{\\bf x}.\n",
    "$$\n",
    "  * $\\left\\{{\\bf x}\\in \\mathbb{R}^{n} : \\left<{\\bf a},{\\bf x}\\right>=0\\right\\}$\n",
    "  * $\\left\\{{\\bf x}\\in \\mathbb{R}^{n} : \\left<{\\bf a},{\\bf x}\\right>\\geq 0\\right\\}$\n",
    "  * $\\left\\{{\\bf x}\\in \\mathbb{R}^{n} : \\left<{\\bf a},{\\bf x}\\right>= c, ~c > 0\\right\\}$\n",
    "  * $\\left\\{{\\bf x}\\in \\mathbb{R}^{n} : \\left<{\\bf a},{\\bf x}\\right> \\geq c, ~c > 0\\right\\}$"
   ]
  },
  {
   "cell_type": "markdown",
   "id": "f12ded7b-71ec-4f51-bf69-f846bb0245df",
   "metadata": {},
   "source": [
    "**Problem 4**: Following up on the previous problem, suppose I give you an underdetermined real matrix $A$ which is $k\\times n$, $k<n$.  By the inequality $A{\\bf x} \\leq {\\bf b}$, with ${\\bf b}\\in \\mathbb{R}^{k}$, we mean this component-by component so that \n",
    "$$\n",
    "(A{\\bf x})_{j} \\leq b_{j}, ~ j=1, \\cdots, k.  \n",
    "$$\n",
    "How would you describe the shape formed by those ${\\bf x}$ such that $A{\\bf x} \\leq {\\bf b}$?  Illustrate your description in dimensions $n=2$ and $n=3$.  Are there cases when these inequalities don't make sense, which is to say, they cannot be satisfied?  "
   ]
  },
  {
   "cell_type": "markdown",
   "id": "a321cad8-83bb-4d5e-97d9-d59ca9aac860",
   "metadata": {},
   "source": [
    "**Problem 5**: A subset $E\\subset \\mathbb{R}^{n}$ is called _convex_ if for all ${\\bf x}, {\\bf y} \\in E$, $t{\\bf x} + (1-t){\\bf y}\\in E$ for $t\\in[0,1]$.  This is equivalent to saying that a convex set is one that contains all of its line segments.  Show from the prior problem that $A{\\bf x}\\leq {\\bf b}$ forms a convex set in $\\mathbb{R}^{n}$."
   ]
  },
  {
   "cell_type": "markdown",
   "id": "390f3432-f887-4ac5-a305-a403f755c45d",
   "metadata": {
    "collapsed": true,
    "jupyter": {
     "outputs_hidden": true
    }
   },
   "source": [
    "**Problem 6**: (Graduate/Challenge) Suppose we have the objective function \n",
    "$$\n",
    "f({\\bf x}) = \\frac{1}{2}\\left<H{\\bf x},{\\bf x}\\right> + \\left<{\\bf x},{\\bf v}\\right> = \\frac{1}{2}{\\bf x}^{T}H{\\bf x} + {\\bf v}^{T}{\\bf x}, \n",
    "$$\n",
    "where $H$ is a real $n\\times n$, positive definite matrix (that means symmetric with all positive eigenvalues, so that $H=O\\Sigma^{2}O^{T}$, $OO^{T}=I$), and ${\\bf v}\\in\\mathbb{R}^{n}$.  Find ${\\bf x}_{\\ast} = \\text{arg min} f({\\bf x})$ subject to the constraint $A{\\bf x} \\leq {\\bf b}$, where $A$ is a real, underdetermined $k\\times n$ matrix (i.e. k<n) of full rank.  \n",
    "\n",
    "* Start by finding the critical points of the affiliated Lagrangian $L({\\bf x}, \\boldsymbol{\\lambda})$ where\n",
    "$$\n",
    "L({\\bf x}, {\\bf \\lambda}) = f({\\bf x}) + \\boldsymbol{\\lambda}^{T}A{\\bf x}, ~ \\boldsymbol{\\lambda} \\in \\mathbb{R}^{k}.\n",
    "$$\n",
    "Show that the critical ${\\bf x}$, say ${\\bf x}_{\\ast}$ is given by ${\\bf x}_{\\ast} = -H^{-1}({\\bf v} + A^{T}\\boldsymbol{\\lambda})$.  Note, the critical points are found by solving \n",
    "$$\n",
    "\\frac{\\partial L}{\\partial x_{j}} = 0, ~ j=1, \\cdots, n,\n",
    "$$\n",
    "for all components.  The substitution ${\\bf u} = O^{T}{\\bf x}$ is still useful here.  \n",
    "\n",
    "* Show that $f({\\bf x}_{\\ast}) = \\frac{1}{2}\\left(\\boldsymbol{\\lambda}^{T}A-{\\bf v}^{T}\\right)H^{-1}({\\bf v} + A^{T}\\boldsymbol{\\lambda}) = -\\frac{1}{2}\\left<{\\bf v}, H^{-1}{\\bf v}\\right> + \\frac{1}{2}\\left<\\boldsymbol{\\lambda}, AH^{-1}A^{T}\\boldsymbol{\\lambda} \\right>$.  Note, for real vectors $\\left<{\\bf u}, {\\bf v}\\right> = \\left<{\\bf v}, {\\bf u}\\right>$, which will be useful in getting terms to disappear.  \n",
    "* Show that the inequality constraint can be written as $AH^{-1}A^{T}\\boldsymbol{\\lambda} \\geq -\\left({\\bf b} + AH^{-1}{\\bf v}\\right)$.\n",
    "* Show that $AH^{-1}A^{T}$ is a positive definite $k\\times k$ matrix and thus $\\left<\\boldsymbol{\\lambda}, AH^{-1}A^{T}\\boldsymbol{\\lambda} \\right> \\gt 0$ for all $\\boldsymbol{\\lambda} \\in \\mathbb{R}^{k}$, $\\boldsymbol{\\lambda}\\neq 0$.\n",
    "* Find the solution for $k=1$, which means $AH^{-1}A^{T} = c > 0$ (you'll have to stare at that for a second to believe me).  "
   ]
  },
  {
   "cell_type": "code",
   "execution_count": null,
   "id": "b0285243-9e20-4f99-8e23-06bee1ab18c1",
   "metadata": {},
   "outputs": [],
   "source": []
  }
 ],
 "metadata": {
  "kernelspec": {
   "display_name": "Python 3 (ipykernel)",
   "language": "python",
   "name": "python3"
  },
  "language_info": {
   "codemirror_mode": {
    "name": "ipython",
    "version": 3
   },
   "file_extension": ".py",
   "mimetype": "text/x-python",
   "name": "python",
   "nbconvert_exporter": "python",
   "pygments_lexer": "ipython3",
   "version": "3.11.4"
  }
 },
 "nbformat": 4,
 "nbformat_minor": 5
}
