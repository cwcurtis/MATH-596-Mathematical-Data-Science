{
 "cells": [
  {
   "cell_type": "code",
   "execution_count": null,
   "id": "535d2680-075e-400e-ad84-7aa622a6e2b2",
   "metadata": {},
   "outputs": [],
   "source": [
    "import numpy as np\n",
    "import matplotlib.pyplot as plt\n",
    "from scipy import integrate\n",
    "%matplotlib inline"
   ]
  },
  {
   "cell_type": "markdown",
   "id": "eae5cf8c",
   "metadata": {},
   "source": [
    "## Homework 5: Due 10/09/25 by 11:59 PM"
   ]
  },
  {
   "cell_type": "markdown",
   "id": "e72a14cb-00e2-4e3e-a4f9-6feb880e0ce5",
   "metadata": {},
   "source": [
    "## Background and Definitions\n",
    "\n",
    "By $L_{2}(\\mathbb{R})$ we mean that class of functions $f(x)$ such that\n",
    "\n",
    "$$\n",
    "\\left|\\left|f\\right|\\right|_{2}^{2} = \\left<f,f \\right> = \\int_{-\\infty}^{\\infty}\\left|f(x)\\right|^{2}dx < \\infty\n",
    "$$\n",
    "\n",
    "Affiliated with the inner product, we have the Cauchy--Schwarz inequality:\n",
    "\n",
    "$$\n",
    "\\left|\\left<f,g \\right>\\right| \\leq \\left|\\left|f\\right|\\right|_{2}\\left|\\left|g\\right|\\right|_{2}\n",
    "$$\n",
    "\n",
    "We define the Haar wavelets via the scaling function \n",
    "\n",
    "$$\n",
    "\\phi(x) = \\left\\{\\begin{array}{rl}1 & x \\in [0,1] \\\\ 0 & x \\notin [0,1] \\end{array}\\right.\n",
    "$$\n",
    "\n",
    "and the wavelet function\n",
    "\n",
    "$$\n",
    "\\psi(x) = \\left\\{\\begin{array}{rl} 1 & x \\in [0,1/2) \\\\ -1 & x\\in[1/2, 1] \\\\ 0 & x \\notin [0,1] \\end{array}\\right.\n",
    "$$\n",
    "\n",
    "This gives rise to the scaled/translated functions $\\phi_{j,n}(x) = 2^{-j/2}\\phi(2^{-j}x - n)$ and $\\psi_{j,n}(x) = 2^{-j/2}\\psi(2^{-j}x - n)$ with corresponding _approximation_ spaces $\\mathbb{A}_{j}$ defined by \n",
    "\n",
    "$$\n",
    "\\mathbb{A}_{j} = \\text{Span}_{n}\\left\\{\\phi_{j,n}\\right\\}\n",
    "$$\n",
    "\n",
    "and _detail_ spaces \n",
    "\n",
    "$$\n",
    "\\mathbb{D}_{j} = \\text{Span}_{n}\\left\\{\\psi_{j,n}\\right\\}\n",
    "$$\n",
    "\n",
    "We will take it as a given that $\\mathbb{A}_{j-1} = \\mathbb{A}_{j} \\oplus \\mathbb{D}_{j}$ and that \n",
    "$$\n",
    "\\cdots \\subset \\mathbb{A}_{1} \\subset \\mathbb{A}_{0} \\subset \\mathbb{A}_{-1} \\subset \\cdots\n",
    "$$\n",
    "and that $\\mathbb{D}_{j}\\perp \\mathbb{D}_{k}$ for all $j\\neq k$.\n",
    "\n",
    "## Problems\n",
    "For $f(x)\\in L_{2}(\\mathbb{R})$, define $\\tilde{f}_{j}(x) \\in \\mathbb{A}_{j}$ to be\n",
    "\n",
    "$$\n",
    "\\tilde{f}_{j}(x) = \\sum_{n=-\\infty}^{\\infty}\\left<f,\\phi_{j,n}\\right>\\phi_{j,n}(x)\n",
    "$$\n",
    "\n",
    "and define $\\hat{f}_{j}(x)\\in \\mathbb{D}_{j}$ to be \n",
    "\n",
    "$$\n",
    "\\hat{f}_{j}(x) = \\sum_{n=-\\infty}^{\\infty}\\hat{f}_{jn}\\psi_{j,n}(x), ~ \\hat{f}_{jn} = \\left<f,\\psi_{j,n}\\right>\n",
    "$$\n",
    "\n",
    "As for the infinite sums which we use to define $\\tilde{f}_{j}$ and $\\hat{f}_{j}$, we tacitly use the fact that Bessel's inequality implies that those sums are Cauchy sequences in $L_{2}(\\mathbb{R})$ so that convergence to a well defined limit within $L_{2}(\\mathbb{R})$ is a given via using the completeness of $L_{2}(\\mathbb{R})$."
   ]
  },
  {
   "cell_type": "markdown",
   "id": "80e28395-e1ed-4bfa-a246-328764d9ddad",
   "metadata": {},
   "source": [
    "**Problem 1**: Prove that \n",
    "\\begin{align*}\n",
    "\\left|\\left|f - \\tilde{f}_{j}\\right|\\right|_{2}^{2} = & \\left|\\left|f\\right|\\right|_{2}^{2} - \\left|\\left|\\tilde{f}_{j}\\right|\\right|_{2}^{2}\\\\\n",
    "= & \\left|\\left|f\\right|\\right|_{2}^{2} - \\sum_{n=-\\infty}^{\\infty}\\left|\\left<f,\\phi_{j,n}\\right>\\right|^{2}\n",
    "\\end{align*}"
   ]
  },
  {
   "cell_type": "markdown",
   "id": "29247721-c3da-478d-9435-a507553a22f7",
   "metadata": {},
   "source": [
    "**Problem 2**: Given that \n",
    "$$\n",
    "\\left<f,\\phi_{j,n}\\right> = 2^{-j/2}\\int_{2^{j}n}^{2^{j}(n+1)}f(x) dx\n",
    "$$\n",
    "using the Mean-Value Theorem for integrals, show that there exists $\\tilde{x}_{j,n}\\in[2^{j}n, 2^{j}(n+1)]$ such that\n",
    "$$\n",
    "\\left<f,\\phi_{j,n}\\right> = 2^{j/2} f(\\tilde{x}_{j,n})\n",
    "$$"
   ]
  },
  {
   "cell_type": "markdown",
   "id": "6dcefdce-b82d-4874-906e-51aa737e1bd9",
   "metadata": {},
   "source": [
    "**Problem 3** (Graduate): Suppose now that $f$ is continuous and is only non-zero on the interval $[-L, L]$.  For $j<0$, show that \n",
    "\n",
    "$$\n",
    "\\tilde{f}_{j}(x) = \\sum_{n=-\\lceil L2^{-j} \\rceil}^{\\lceil L2^{-j} \\rceil}f(\\tilde{x}_{j,n})\\phi\\left(2^{-j}x-n\\right).\n",
    "$$\n",
    "\n",
    "From this show that \n",
    "$$\n",
    "\\left|\\tilde{f}_{j}(x)\\right|^{2} = \\sum_{n=-\\lceil L2^{-j} \\rceil}^{\\lceil L2^{-j} \\rceil}\\left|f(\\tilde{x}_{j,n})\\right|^{2}\\phi\\left(2^{-j}x-n\\right),\n",
    "$$\n",
    "\n",
    "and thus show that \n",
    "\n",
    "$$\n",
    "\\int_{-L}^{L}\\left|\\tilde{f}_{j}(x)\\right|^{2} dx = 2^{j} \\sum_{n=-\\lceil L2^{-j} \\rceil}^{\\lceil L2^{-j} \\rceil}\\left|f(\\tilde{x}_{j,n})\\right|^{2}\n",
    "$$\n",
    "\n",
    "Use a Riemann Sum argument and Problem 1 to then show that \n",
    "\n",
    "$$\n",
    "\\lim_{j\\rightarrow -\\infty}\\left|\\left|f - \\tilde{f}_{j}\\right|\\right|_{2} = 0\n",
    "$$\n",
    "\n",
    "Note, compactly supported, continuous functions are dense in $L_{2}(\\mathbb{R})$, so we get the result to carry over to all of $L_{2}(\\mathbb{R})$."
   ]
  },
  {
   "cell_type": "markdown",
   "id": "fa085cef-aa2d-47d6-87b7-bcc1c1ed0133",
   "metadata": {},
   "source": [
    "**Problem 4** (Graduate): Show then that \n",
    "$$\n",
    "L_{2}(\\mathbb{R}) = \\bigoplus_{j=-\\infty}^{\\infty} \\mathbb{D}_{j}\n",
    "$$\n",
    "\n",
    "From this, we see that we can define the _wavelet transform_ of $f(x)$ to be \n",
    "\n",
    "$$\n",
    "f(x) = \\sum_{j=-\\infty}^{\\infty}\\sum_{n=-\\infty}^{\\infty}\\hat{f}_{jn}\\psi_{jn}(x)\n",
    "$$"
   ]
  },
  {
   "cell_type": "markdown",
   "id": "4e4cec64-5232-4f87-baa6-c747df100a51",
   "metadata": {},
   "source": [
    "**Problem 5**: Using beans.jpg, or whichever (school appropriate) image you prefer, and following the model for how we built an image approximation using the approximation coefficiets from a wavelet decomposition, create corresponding images for each of the different levels of detail in decomposition.  Use three levels of decomposition.  "
   ]
  },
  {
   "cell_type": "markdown",
   "id": "8cc39f30",
   "metadata": {},
   "source": [
    "**Problem 6**: Using the results from above, generate Fourier transforms of each detail image you reconstruct.  Explain and compare your results from doing this.  "
   ]
  },
  {
   "cell_type": "markdown",
   "id": "def9350a",
   "metadata": {},
   "source": []
  }
 ],
 "metadata": {
  "kernelspec": {
   "display_name": "Python 3 (ipykernel)",
   "language": "python",
   "name": "python3"
  },
  "language_info": {
   "codemirror_mode": {
    "name": "ipython",
    "version": 3
   },
   "file_extension": ".py",
   "mimetype": "text/x-python",
   "name": "python",
   "nbconvert_exporter": "python",
   "pygments_lexer": "ipython3",
   "version": "3.11.4"
  }
 },
 "nbformat": 4,
 "nbformat_minor": 5
}
